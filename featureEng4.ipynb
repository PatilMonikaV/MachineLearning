{
 "cells": [
  {
   "cell_type": "markdown",
   "id": "4ef5a508-61e0-44da-8479-aab9db6671b0",
   "metadata": {},
   "source": [
    "Q1. What is the difference between Ordinal Encoding and Label Encoding? Provide an example of when you\n",
    "might choose one over the other."
   ]
  },
  {
   "cell_type": "markdown",
   "id": "6dc68990-f30a-4059-bac0-cb53a74d18cd",
   "metadata": {},
   "source": [
    "Ordinal encoding and label encoding are often confused because they both involve converting categorical data into numerical format. However, there is a key difference between them:\n",
    "\n",
    "### Ordinal Encoding:\n",
    "\n",
    "- **Definition**: Ordinal encoding is a technique where each category is assigned a unique integer based on its order or rank.\n",
    "- **Use Case**: Suitable for categorical data where the categories have a clear order or hierarchy.\n",
    "- **Example**: Education level (e.g., \"High School,\" \"Bachelor's,\" \"Master's,\" \"Ph.D.\") can be encoded as 1, 2, 3, 4, respectively, reflecting the increasing level of education.\n",
    "\n",
    "### Label Encoding:\n",
    "\n",
    "- **Definition**: Label encoding is a technique where each category is assigned a unique integer arbitrarily, without considering any order or rank.\n",
    "- **Use Case**: Suitable for categorical data where there is no meaningful order or hierarchy among the categories.\n",
    "- **Example**: Colors (e.g., \"Red,\" \"Green,\" \"Blue\") can be encoded as 1, 2, 3, respectively, without implying any specific order.\n",
    "\n",
    "### When to Choose One Over the Other:\n",
    "\n",
    "1. **Clear Order or Hierarchy**:\n",
    "   - If the categorical data has a clear order or hierarchy, such as low-medium-high or small-medium-large, ordinal encoding would be appropriate. For example, in survey responses where the options are \"Strongly Disagree,\" \"Disagree,\" \"Neutral,\" \"Agree,\" \"Strongly Agree,\" ordinal encoding preserves the order of responses.\n",
    "   \n",
    "2. **No Meaningful Order**:\n",
    "   - If the categories have no meaningful order or hierarchy, such as city names or types of fruits, label encoding is more suitable. For example, encoding cities like \"New York,\" \"Los Angeles,\" and \"Chicago\" as 1, 2, 3, respectively, without implying any order.\n",
    "\n",
    "### Example:\n",
    "\n",
    "Let's consider a dataset of student performance with a feature \"Grade Level\" that indicates the grade level of students (e.g., \"Freshman,\" \"Sophomore,\" \"Junior,\" \"Senior\"). \n",
    "\n",
    "- **Ordinal Encoding**:\n",
    "  - Use ordinal encoding if there is a clear order in the grade levels (e.g., Freshman < Sophomore < Junior < Senior). Assigning 1, 2, 3, 4 to these levels would preserve the order.\n",
    "  \n",
    "- **Label Encoding**:\n",
    "  - Use label encoding if the grade levels are just categories without any inherent order. Assigning arbitrary numbers like 1, 2, 3, 4 would suffice, as long as the algorithm understands that these are distinct categories.\n",
    "\n",
    "### Conclusion:\n",
    "\n",
    "The choice between ordinal encoding and label encoding depends on whether there is a meaningful order or hierarchy among the categories. Ordinal encoding is used when such an order exists and needs to be preserved, while label encoding is used when categories are distinct and do not have a clear order or rank."
   ]
  },
  {
   "cell_type": "markdown",
   "id": "72207cc2-b8f9-4272-80d1-092657781061",
   "metadata": {},
   "source": [
    "Q2. Explain how Target Guided Ordinal Encoding works and provide an example of when you might use it in\n",
    "a machine learning project."
   ]
  },
  {
   "cell_type": "markdown",
   "id": "829098a9-01b9-4b66-9d02-65028322afcb",
   "metadata": {},
   "source": [
    "Target Guided Ordinal Encoding is a technique used to encode categorical variables based on the target variable's mean or median value for each category. It's particularly useful when dealing with ordinal categorical variables where the categories have an inherent order, and there is a significant relationship between the categorical variable and the target variable.\n",
    "\n",
    "How Target Guided Ordinal Encoding Works:\n",
    "Calculate the Mean/Median Target Value for Each Category:\n",
    "\n",
    "For each category in the ordinal variable, calculate the mean or median value of the target variable (e.g., average income for different education levels).\n",
    "Order Categories Based on Target Mean/Median:\n",
    "\n",
    "Order the categories based on the mean or median target value in ascending or descending order (e.g., lower income education levels first, higher income levels last).\n",
    "Assign Ordinal Encodings:\n",
    "\n",
    "Assign ordinal encodings (e.g., 1, 2, 3, etc.) based on the order determined by the target variable's mean or median.\n",
    "Example Scenario:\n",
    "Let's say you're working on a project to predict customer spending levels based on their income brackets. You have an ordinal categorical variable \"Income Bracket\" with categories such as \"Low,\" \"Medium,\" \"High,\" and \"Very High.\" The target variable is \"Spending Level,\" which indicates how much customers spend on average.\n",
    "\n",
    "Here's how you might use Target Guided Ordinal Encoding:\n",
    "\n",
    "Calculate Mean Spending Level for Each Income Bracket:\n",
    "\n",
    "Calculate the average spending level for customers in each income bracket (e.g., Low, Medium, High, Very High).\n",
    "Order Income Brackets Based on Mean Spending Level:\n",
    "\n",
    "Order the income brackets based on the mean spending level. For example, if the mean spending level increases with income, the order might be Low < Medium < High < Very High.\n",
    "Assign Ordinal Encodings:\n",
    "\n",
    "Assign ordinal encodings (e.g., 1, 2, 3, 4) to the income brackets based on the ordered relationship with mean spending level.\n",
    "Python Implementation:\n",
    "Here's a simplified example of how you might implement Target Guided Ordinal Encoding using Python and pandas:"
   ]
  },
  {
   "cell_type": "code",
   "execution_count": 1,
   "id": "74d9c1b7-51c3-469f-94d6-95797bac3211",
   "metadata": {},
   "outputs": [
    {
     "name": "stdout",
     "output_type": "stream",
     "text": [
      "  Income Bracket  Mean Spending Level  Income Bracket Encoded\n",
      "0            Low                  100                       1\n",
      "1         Medium                  200                       2\n",
      "2           High                  300                       3\n",
      "3      Very High                  400                       4\n"
     ]
    }
   ],
   "source": [
    "import pandas as pd\n",
    "\n",
    "# Example dataset\n",
    "data = {\n",
    "    \"Income Bracket\": [\"Low\", \"Medium\", \"High\", \"Very High\"],\n",
    "    \"Mean Spending Level\": [100, 200, 300, 400]  # Mean spending level for each income bracket\n",
    "}\n",
    "\n",
    "df = pd.DataFrame(data)\n",
    "\n",
    "# Order Income Brackets based on Mean Spending Level\n",
    "df.sort_values(by=\"Mean Spending Level\", ascending=True, inplace=True)\n",
    "\n",
    "# Assign Ordinal Encodings based on the order\n",
    "df[\"Income Bracket Encoded\"] = range(1, len(df) + 1)\n",
    "\n",
    "print(df)\n"
   ]
  },
  {
   "cell_type": "markdown",
   "id": "299a8a5c-fb60-4a89-a9a4-b38c060a4370",
   "metadata": {},
   "source": [
    "Q3. Define covariance and explain why it is important in statistical analysis. How is covariance calculated?"
   ]
  },
  {
   "cell_type": "markdown",
   "id": "ecb7c9b7-2b18-414b-b35c-5d485895eda8",
   "metadata": {},
   "source": [
    "Covariance is a statistical measure that quantifies the degree to which two random variables change together. In other words, it measures the relationship between two variables, indicating whether they tend to move in the same direction (positive covariance) or in opposite directions (negative covariance). A covariance value of zero implies no linear relationship between the variables.\n",
    "\n",
    "### Importance of Covariance in Statistical Analysis:\n",
    "\n",
    "1. **Relationship Assessment**: Covariance helps assess the relationship between two variables. A positive covariance suggests that as one variable increases, the other variable tends to increase as well, while a negative covariance indicates an inverse relationship.\n",
    "2. **Portfolio Analysis**: In finance, covariance is crucial for portfolio analysis. It measures how assets in a portfolio move relative to each other, which is essential for diversification and risk management.\n",
    "3. **Data Exploration**: Covariance is used in exploratory data analysis to understand the dependencies between variables and identify potential patterns or trends.\n",
    "4. **Linear Regression**: Covariance is a key component in linear regression analysis, where it helps determine the strength and direction of the relationship between the independent and dependent variables.\n",
    "\n",
    "### Calculation of Covariance:\n",
    "\n",
    "The formula to calculate the covariance between two variables \\( X \\) and \\( Y \\) based on a sample is:\n",
    "\n",
    "\\[\n",
    "\\text{Cov}(X, Y) = \\frac{\\sum_{i=1}^{n} (X_i - \\bar{X})(Y_i - \\bar{Y})}{n-1}\n",
    "\\]\n",
    "\n",
    "Where:\n",
    "- \\( X_i \\) and \\( Y_i \\) are individual data points for variables \\( X \\) and \\( Y \\) respectively.\n",
    "- \\( \\bar{X} \\) and \\( \\bar{Y} \\) are the sample means of variables \\( X \\) and \\( Y \\) respectively.\n",
    "- \\( n \\) is the number of data points.\n",
    "\n",
    "### Interpretation of Covariance:\n",
    "\n",
    "- Positive Covariance (\\( \\text{Cov}(X, Y) > 0 \\)): Indicates that as variable \\( X \\) increases, variable \\( Y \\) tends to increase as well, and vice versa.\n",
    "- Negative Covariance (\\( \\text{Cov}(X, Y) < 0 \\)): Suggests that as variable \\( X \\) increases, variable \\( Y \\) tends to decrease, and vice versa.\n",
    "- Zero Covariance (\\( \\text{Cov}(X, Y) = 0 \\)): Implies no linear relationship between the variables, although they may still be related in a nonlinear manner.\n",
    "\n",
    "### Example Calculation:\n",
    "\n",
    "Let's consider two variables, \\( X \\) and \\( Y \\), with the following data points:\n",
    "\n",
    "\\[\n",
    "X = [1, 2, 3, 4, 5]\n",
    "\\]\n",
    "\\[\n",
    "Y = [3, 5, 7, 9, 11]\n",
    "\\]\n",
    "\n",
    "1. Calculate the means of \\( X \\) and \\( Y \\):\n",
    "   - \\( \\bar{X} = \\frac{1+2+3+4+5}{5} = 3 \\)\n",
    "   - \\( \\bar{Y} = \\frac{3+5+7+9+11}{5} = 7 \\)\n",
    "\n",
    "2. Calculate the covariance:\n",
    "   - \\( \\text{Cov}(X, Y) = \\frac{(1-3)(3-7) + (2-3)(5-7) + (3-3)(7-7) + (4-3)(9-7) + (5-3)(11-7)}{5-1} \\)\n",
    "   - \\( \\text{Cov}(X, Y) = \\frac{(-2)(-4) + (-1)(-2) + (0)(0) + (1)(2) + (2)(4)}{4} \\)\n",
    "   - \\( \\text{Cov}(X, Y) = \\frac{8 + 2 + 0 + 2 + 8}{4} \\)\n",
    "   - \\( \\text{Cov}(X, Y) = \\frac{20}{4} = 5 \\)\n",
    "\n",
    "So, the covariance between \\( X \\) and \\( Y \\) in this example is 5.\n",
    "\n",
    "### Conclusion:\n",
    "\n",
    "Covariance is a fundamental concept in statistical analysis that helps quantify the relationship between two variables. It is essential for understanding dependencies, making predictions, and analyzing data patterns, particularly in fields such as finance, economics, and data science."
   ]
  },
  {
   "cell_type": "markdown",
   "id": "da77e42e-0e26-4fff-9667-cd45eed1e7a4",
   "metadata": {},
   "source": [
    "Q4. For a dataset with the following categorical variables: Color (red, green, blue), Size (small, medium,\n",
    "large), and Material (wood, metal, plastic), perform label encoding using Python's scikit-learn library.\n",
    "Show your code and explain the output."
   ]
  },
  {
   "cell_type": "markdown",
   "id": "7d2b4faf-4fd6-468d-9ce3-5917bf6e31dc",
   "metadata": {},
   "source": [
    "\n",
    "To perform label encoding for the categorical variables Color, Size, and Material using Python's scikit-learn library, we can use the LabelEncoder class from scikit-learn. Below is an example code snippet demonstrating how to do this:"
   ]
  },
  {
   "cell_type": "code",
   "execution_count": 2,
   "id": "4a2ba696-2bc1-4271-9c07-07e8ea21e2ff",
   "metadata": {},
   "outputs": [
    {
     "name": "stdout",
     "output_type": "stream",
     "text": [
      "   Color    Size Material  Color_encoded  Size_encoded  Material_encoded\n",
      "0    red  medium     wood              2             1                 2\n",
      "1  green   small    metal              1             2                 0\n",
      "2   blue   large  plastic              0             0                 1\n",
      "3   blue  medium     wood              0             1                 2\n",
      "4    red   small    metal              2             2                 0\n"
     ]
    }
   ],
   "source": [
    "from sklearn.preprocessing import LabelEncoder\n",
    "import pandas as pd\n",
    "\n",
    "# Sample dataset with categorical variables\n",
    "data = {\n",
    "    \"Color\": [\"red\", \"green\", \"blue\", \"blue\", \"red\"],\n",
    "    \"Size\": [\"medium\", \"small\", \"large\", \"medium\", \"small\"],\n",
    "    \"Material\": [\"wood\", \"metal\", \"plastic\", \"wood\", \"metal\"]\n",
    "}\n",
    "\n",
    "df = pd.DataFrame(data)\n",
    "\n",
    "# Initialize LabelEncoder for each categorical variable\n",
    "label_encoders = {}\n",
    "for column in df.columns:\n",
    "    label_encoders[column] = LabelEncoder()\n",
    "    df[column + \"_encoded\"] = label_encoders[column].fit_transform(df[column])\n",
    "\n",
    "print(df)\n"
   ]
  },
  {
   "cell_type": "markdown",
   "id": "bc51a80b-0e70-41ef-9bfd-6826c3183d86",
   "metadata": {},
   "source": [
    "Q5. Calculate the covariance matrix for the following variables in a dataset: Age, Income, and Education\n",
    "level. Interpret the results."
   ]
  },
  {
   "cell_type": "markdown",
   "id": "5e4a074e-fc63-43e6-bf82-daf98a5f4eb0",
   "metadata": {},
   "source": [
    "\n",
    "To calculate the covariance matrix for variables Age, Income, and Education Level in a dataset, we first need the data for these variables. Let's assume we have a sample dataset with these variables, and then we can calculate the covariance matrix using Python's NumPy library.\n",
    "\n",
    "Here's an example code snippet to calculate the covariance matrix and interpret the results:"
   ]
  },
  {
   "cell_type": "code",
   "execution_count": 3,
   "id": "4d8e6458-30d8-43ad-a65a-9ff0d0ea2a6b",
   "metadata": {},
   "outputs": [
    {
     "name": "stdout",
     "output_type": "stream",
     "text": [
      "Covariance Matrix:\n",
      "[[6.25e+01 1.25e+05 2.50e+01]\n",
      " [1.25e+05 2.50e+08 5.00e+04]\n",
      " [2.50e+01 5.00e+04 1.00e+01]]\n"
     ]
    }
   ],
   "source": [
    "import numpy as np\n",
    "import pandas as pd\n",
    "\n",
    "# Sample dataset\n",
    "data = {\n",
    "    \"Age\": [30, 40, 25, 35, 45],\n",
    "    \"Income\": [50000, 70000, 40000, 60000, 80000],\n",
    "    \"Education Level\": [12, 16, 10, 14, 18]\n",
    "}\n",
    "\n",
    "df = pd.DataFrame(data)\n",
    "\n",
    "# Calculate the covariance matrix\n",
    "covariance_matrix = np.cov(df.T)\n",
    "\n",
    "print(\"Covariance Matrix:\")\n",
    "print(covariance_matrix)\n"
   ]
  },
  {
   "cell_type": "markdown",
   "id": "dd3a2cbf-0b28-401b-8b39-b68d1b93dd6b",
   "metadata": {},
   "source": [
    "Q6. You are working on a machine learning project with a dataset containing several categorical\n",
    "variables, including \"Gender\" (Male/Female), \"Education Level\" (High School/Bachelor's/Master's/PhD),\n",
    "and \"Employment Status\" (Unemployed/Part-Time/Full-Time). Which encoding method would you use for\n",
    "each variable, and why?"
   ]
  },
  {
   "cell_type": "markdown",
   "id": "5cd74b31-9970-4254-a846-6873adf35d4e",
   "metadata": {},
   "source": [
    "For the categorical variables \"Gender\" (Male/Female), \"Education Level\" (High School/Bachelor's/Master's/PhD), and \"Employment Status\" (Unemployed/Part-Time/Full-Time), I would choose the following encoding methods based on the nature of each variable:\n",
    "\n",
    "Gender (Binary Categorical Variable):\n",
    "\n",
    "Encoding Method: One-Hot Encoding or Binary Encoding\n",
    "Explanation: Since \"Gender\" has only two categories (Male/Female), using one-hot encoding or binary encoding is suitable. One-hot encoding creates binary columns (0 or 1) for each category, while binary encoding uses binary digits (0 and 1) to represent categories.\n",
    "Education Level (Ordinal Categorical Variable):\n",
    "\n",
    "Encoding Method: Ordinal Encoding\n",
    "Explanation: \"Education Level\" is an ordinal categorical variable with a meaningful order (High School < Bachelor's < Master's < PhD). Ordinal encoding preserves this order by assigning numerical labels accordingly.\n",
    "Employment Status (Nominal Categorical Variable):\n",
    "\n",
    "Encoding Method: One-Hot Encoding\n",
    "Explanation: \"Employment Status\" is a nominal categorical variable with no inherent order among categories (Unemployed, Part-Time, Full-Time). One-hot encoding creates binary columns for each category, representing the presence or absence of that category.\n",
    "Here's a code example using Python's pandas library and scikit-learn's OneHotEncoder for one-hot encoding and LabelEncoder for ordinal encoding:"
   ]
  },
  {
   "cell_type": "code",
   "execution_count": 4,
   "id": "d515e4ce-c3af-468d-b9d6-22513cdc5a1a",
   "metadata": {},
   "outputs": [
    {
     "name": "stdout",
     "output_type": "stream",
     "text": [
      "  Education Level    0    1    2  Education Level Encoded\n",
      "0     High School  1.0  0.0  0.0                        1\n",
      "1      Bachelor's  0.0  1.0  0.0                        0\n",
      "2        Master's  1.0  0.0  1.0                        2\n",
      "3             PhD  1.0  0.0  0.0                        3\n",
      "4      Bachelor's  0.0  1.0  0.0                        0\n"
     ]
    },
    {
     "name": "stderr",
     "output_type": "stream",
     "text": [
      "/opt/conda/lib/python3.10/site-packages/sklearn/preprocessing/_encoders.py:808: FutureWarning: `sparse` was renamed to `sparse_output` in version 1.2 and will be removed in 1.4. `sparse_output` is ignored unless you leave `sparse` to its default value.\n",
      "  warnings.warn(\n"
     ]
    }
   ],
   "source": [
    "import pandas as pd\n",
    "from sklearn.preprocessing import OneHotEncoder, LabelEncoder\n",
    "\n",
    "# Sample dataset\n",
    "data = {\n",
    "    \"Gender\": [\"Male\", \"Female\", \"Male\", \"Male\", \"Female\"],\n",
    "    \"Education Level\": [\"High School\", \"Bachelor's\", \"Master's\", \"PhD\", \"Bachelor's\"],\n",
    "    \"Employment Status\": [\"Full-Time\", \"Part-Time\", \"Unemployed\", \"Full-Time\", \"Part-Time\"]\n",
    "}\n",
    "\n",
    "df = pd.DataFrame(data)\n",
    "\n",
    "# One-Hot Encoding for Gender and Employment Status\n",
    "onehot_encoder = OneHotEncoder(drop=\"first\", sparse=False)\n",
    "onehot_encoded = pd.DataFrame(onehot_encoder.fit_transform(df[[\"Gender\", \"Employment Status\"]]))\n",
    "df_encoded = pd.concat([df, onehot_encoded], axis=1)\n",
    "df_encoded.drop([\"Gender\", \"Employment Status\"], axis=1, inplace=True)\n",
    "\n",
    "# Ordinal Encoding for Education Level\n",
    "label_encoder = LabelEncoder()\n",
    "df_encoded[\"Education Level Encoded\"] = label_encoder.fit_transform(df[\"Education Level\"])\n",
    "\n",
    "print(df_encoded)\n"
   ]
  },
  {
   "cell_type": "code",
   "execution_count": null,
   "id": "fed5fa31-7679-44c8-bd8c-2ef66e5a2d78",
   "metadata": {},
   "outputs": [],
   "source": []
  }
 ],
 "metadata": {
  "kernelspec": {
   "display_name": "Python 3 (ipykernel)",
   "language": "python",
   "name": "python3"
  },
  "language_info": {
   "codemirror_mode": {
    "name": "ipython",
    "version": 3
   },
   "file_extension": ".py",
   "mimetype": "text/x-python",
   "name": "python",
   "nbconvert_exporter": "python",
   "pygments_lexer": "ipython3",
   "version": "3.10.8"
  }
 },
 "nbformat": 4,
 "nbformat_minor": 5
}
