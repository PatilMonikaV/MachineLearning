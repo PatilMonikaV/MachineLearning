{
 "cells": [
  {
   "cell_type": "markdown",
   "id": "7d6735cb-481c-4b33-9add-a5a596b6387d",
   "metadata": {},
   "source": [
    "Q1. Pearson correlation coefficient is a measure of the linear relationship between two variables. Suppose\n",
    "you have collected data on the amount of time students spend studying for an exam and their final exam\n",
    "scores. Calculate the Pearson correlation coefficient between these two variables and interpret the result."
   ]
  },
  {
   "cell_type": "markdown",
   "id": "67c601e9-ff11-4405-9c90-4590498d9a5f",
   "metadata": {},
   "source": [
    "To calculate the Pearson correlation coefficient between the amount of time students spend studying for an exam and their final exam scores, we can use the formula for the Pearson correlation coefficient:\n",
    "\n",
    "𝑟\n",
    "=\n",
    "∑\n",
    "(\n",
    "𝑋\n",
    "𝑖\n",
    "−\n",
    "𝑋\n",
    "ˉ\n",
    ")\n",
    "(\n",
    "𝑌\n",
    "𝑖\n",
    "−\n",
    "𝑌\n",
    "ˉ\n",
    ")\n",
    "∑\n",
    "(\n",
    "𝑋\n",
    "𝑖\n",
    "−\n",
    "𝑋\n",
    "ˉ\n",
    ")\n",
    "2\n",
    "∑\n",
    "(\n",
    "𝑌\n",
    "𝑖\n",
    "−\n",
    "𝑌\n",
    "ˉ\n",
    ")\n",
    "2\n",
    "r= \n",
    "∑(X \n",
    "i\n",
    "​\n",
    " − \n",
    "X\n",
    "ˉ\n",
    " ) \n",
    "2\n",
    " ∑(Y \n",
    "i\n",
    "​\n",
    " − \n",
    "Y\n",
    "ˉ\n",
    " ) \n",
    "2\n",
    " \n",
    "​\n",
    " \n",
    "∑(X \n",
    "i\n",
    "​\n",
    " − \n",
    "X\n",
    "ˉ\n",
    " )(Y \n",
    "i\n",
    "​\n",
    " − \n",
    "Y\n",
    "ˉ\n",
    " )\n",
    "​\n",
    " \n",
    "Where:\n",
    "\n",
    "𝑋\n",
    "𝑖\n",
    "X \n",
    "i\n",
    "​\n",
    "  and \n",
    "𝑌\n",
    "𝑖\n",
    "Y \n",
    "i\n",
    "​\n",
    "  are the individual data points for the two variables (study time and exam scores).\n",
    "𝑋\n",
    "ˉ\n",
    "X\n",
    "ˉ\n",
    "  and \n",
    "𝑌\n",
    "ˉ\n",
    "Y\n",
    "ˉ\n",
    "  are the means of the two variables.\n",
    "Let's assume we have collected the following data for 5 students:\n",
    "\n",
    "Study time (hours): [2, 3, 4, 5, 6]\n",
    "Exam scores: [55, 65, 75, 85, 95]\n",
    "We'll use Python to calculate the Pearson correlation coefficient:"
   ]
  },
  {
   "cell_type": "code",
   "execution_count": null,
   "id": "01d6d809-9615-4fa1-ac62-6d15499f3048",
   "metadata": {},
   "outputs": [],
   "source": [
    "import numpy as np\n",
    "\n",
    "# Data\n",
    "study_time = np.array([2, 3, 4, 5, 6])\n",
    "exam_scores = np.array([55, 65, 75, 85, 95])\n",
    "\n",
    "# Calculate Pearson correlation coefficient\n",
    "correlation_coefficient = np.corrcoef(study_time, exam_scores)[0, 1]\n",
    "\n",
    "print(\"Pearson correlation coefficient:\", correlation_coefficient)\n"
   ]
  },
  {
   "cell_type": "markdown",
   "id": "b4f2561a-ec30-4799-a914-73bb39055785",
   "metadata": {},
   "source": [
    "Q2. Spearman's rank correlation is a measure of the monotonic relationship between two variables.\n",
    "Suppose you have collected data on the amount of sleep individuals get each night and their overall job\n",
    "satisfaction level on a scale of 1 to 10. Calculate the Spearman's rank correlation between these two\n",
    "variables and interpret the result."
   ]
  },
  {
   "cell_type": "markdown",
   "id": "11eda412-3719-4456-bbcd-79d6b86c53f2",
   "metadata": {},
   "source": [
    "To calculate the Spearman's rank correlation between the amount of sleep individuals get each night and their overall job satisfaction level, we first need to rank the data for each variable and then apply the Spearman correlation formula. The formula for Spearman's rank correlation coefficient is:\n",
    "\n",
    "\\[\n",
    "\\rho = 1 - \\frac{6 \\sum d_i^2}{n(n^2 - 1)}\n",
    "\\]\n",
    "\n",
    "where:\n",
    "- \\( d_i \\) is the difference between the ranks of corresponding variables.\n",
    "- \\( n \\) is the number of data points.\n",
    "\n",
    "Assume we have collected the following data for 6 individuals:\n",
    "\n",
    "- Sleep (hours): [7, 6, 8, 5, 6, 7]\n",
    "- Job Satisfaction (1 to 10): [8, 7, 9, 6, 7, 8]\n",
    "\n",
    "Let's calculate the Spearman's rank correlation step-by-step:\n",
    "\n",
    "### Step 1: Rank the Data\n",
    "1. Rank the sleep data:\n",
    "   - [7, 6, 8, 5, 6, 7]\n",
    "   - Ranks: [3.5, 2, 6, 1, 2, 3.5]\n",
    "   \n",
    "2. Rank the job satisfaction data:\n",
    "   - [8, 7, 9, 6, 7, 8]\n",
    "   - Ranks: [3.5, 2, 6, 1, 2, 3.5]\n",
    "\n",
    "### Step 2: Calculate the Differences between the Ranks (\\( d_i \\))\n",
    "   - Rank differences: [3.5 - 3.5, 2 - 2, 6 - 6, 1 - 1, 2 - 2, 3.5 - 3.5]\n",
    "   - \\( d_i \\): [0, 0, 0, 0, 0, 0]\n",
    "   - \\( d_i^2 \\): [0, 0, 0, 0, 0, 0]\n",
    "\n",
    "### Step 3: Apply the Spearman's Rank Correlation Formula\n",
    "   - \\( \\sum d_i^2 = 0 \\)\n",
    "   - \\( n = 6 \\)\n",
    "   - Spearman's rank correlation coefficient:\n",
    "\n",
    "\\[\n",
    "\\rho = 1 - \\frac{6 \\sum d_i^2}{n(n^2 - 1)} = 1 - \\frac{6 \\cdot 0}{6(6^2 - 1)} = 1 - 0 = 1\n",
    "\\]\n",
    "\n",
    "### Step 4: Interpret the Result\n",
    "A Spearman's rank correlation coefficient (\\( \\rho \\)) of 1 indicates a perfect monotonic relationship between the amount of sleep and job satisfaction level. This means that there is a perfect rank-order relationship between sleep and job satisfaction in this dataset, implying that as the amount of sleep increases, job satisfaction also increases in a perfectly consistent manner.\n",
    "\n",
    "### Summary\n",
    "The Spearman's rank correlation coefficient between the amount of sleep and job satisfaction is 1, suggesting a perfect positive monotonic relationship. This means that higher amounts of sleep are consistently associated with higher job satisfaction levels in this dataset."
   ]
  },
  {
   "cell_type": "markdown",
   "id": "7d0ba1db-cee7-4670-90cf-ece87b08e2ac",
   "metadata": {},
   "source": [
    "Q3. Suppose you are conducting a study to examine the relationship between the number of hours of\n",
    "exercise per week and body mass index (BMI) in a sample of adults. You collected data on both variables\n",
    "for 50 participants. Calculate the Pearson correlation coefficient and the Spearman's rank correlation\n",
    "between these two variables and compare the results."
   ]
  },
  {
   "cell_type": "markdown",
   "id": "fa3b1f87-aa39-4f50-bf6f-88b4f949a110",
   "metadata": {},
   "source": [
    "To calculate the Pearson correlation coefficient and the Spearman's rank correlation between the number of hours of exercise per week and body mass index (BMI) for 50 participants, we need the data for these variables. For demonstration purposes, I'll generate a synthetic dataset with random values for exercise hours and BMI, then calculate both correlation coefficients.\n",
    "\n",
    "Here's the code to generate the data and perform the calculations:"
   ]
  },
  {
   "cell_type": "code",
   "execution_count": 2,
   "id": "264da207-f382-4fc8-913a-7af296970ab4",
   "metadata": {},
   "outputs": [
    {
     "name": "stdout",
     "output_type": "stream",
     "text": [
      "Pearson correlation coefficient: 0.0365075109617814\n",
      "Spearman's rank correlation coefficient: 0.024562538764528918\n"
     ]
    }
   ],
   "source": [
    "import numpy as np\n",
    "import pandas as pd\n",
    "from scipy.stats import pearsonr, spearmanr\n",
    "\n",
    "# Generate synthetic data\n",
    "np.random.seed(0)  # For reproducibility\n",
    "exercise_hours = np.random.randint(1, 10, 50)  # Random integers between 1 and 9\n",
    "bmi = np.random.uniform(18.5, 35, 50)  # Random BMI values between 18.5 and 35\n",
    "\n",
    "# Create a DataFrame\n",
    "data = pd.DataFrame({\n",
    "    'Exercise Hours': exercise_hours,\n",
    "    'BMI': bmi\n",
    "})\n",
    "\n",
    "# Calculate Pearson correlation coefficient\n",
    "pearson_corr, _ = pearsonr(data['Exercise Hours'], data['BMI'])\n",
    "\n",
    "# Calculate Spearman's rank correlation coefficient\n",
    "spearman_corr, _ = spearmanr(data['Exercise Hours'], data['BMI'])\n",
    "\n",
    "print(f\"Pearson correlation coefficient: {pearson_corr}\")\n",
    "print(f\"Spearman's rank correlation coefficient: {spearman_corr}\")\n"
   ]
  },
  {
   "cell_type": "code",
   "execution_count": 3,
   "id": "d76a0406-ad00-4910-8bfe-de1c980592c9",
   "metadata": {},
   "outputs": [
    {
     "name": "stdout",
     "output_type": "stream",
     "text": [
      "   Exercise Hours        BMI\n",
      "0               6  22.168303\n",
      "1               1  24.877068\n",
      "2               4  33.392875\n",
      "3               4  25.924175\n",
      "4               8  28.615547\n",
      "Pearson correlation coefficient: 0.0365075109617814\n",
      "Spearman's rank correlation coefficient: 0.024562538764528918\n"
     ]
    }
   ],
   "source": [
    "# Running the code to calculate correlations\n",
    "print(data.head())\n",
    "print(f\"Pearson correlation coefficient: {pearson_corr}\")\n",
    "print(f\"Spearman's rank correlation coefficient: {spearman_corr}\")\n"
   ]
  },
  {
   "cell_type": "markdown",
   "id": "34334a31-0419-4be6-915b-d27b2ad17f10",
   "metadata": {},
   "source": [
    "Q4. A researcher is interested in examining the relationship between the number of hours individuals\n",
    "spend watching television per day and their level of physical activity. The researcher collected data on\n",
    "both variables from a sample of 50 participants. Calculate the Pearson correlation coefficient between\n",
    "these two variables."
   ]
  },
  {
   "cell_type": "markdown",
   "id": "51659e79-70d7-4bd6-8f26-050bb36919a9",
   "metadata": {},
   "source": [
    "\n",
    "To calculate the Pearson correlation coefficient between the number of hours individuals spend watching television per day and their level of physical activity, we need the data for these two variables. Let's assume we have the data for 50 participants.\n",
    "\n",
    "For demonstration purposes, I'll generate a synthetic dataset with random values for TV watching hours and physical activity level, and then calculate the Pearson correlation coefficient using Python.\n",
    "\n",
    "Here's the code to generate the data and perform the calculations:"
   ]
  },
  {
   "cell_type": "code",
   "execution_count": 4,
   "id": "0d89578e-5cf0-4d21-874d-bce044ec91c6",
   "metadata": {},
   "outputs": [
    {
     "name": "stdout",
     "output_type": "stream",
     "text": [
      "Sample data:\n",
      "   TV Hours  Physical Activity\n",
      "0         6                  8\n",
      "1         1                  4\n",
      "2         4                  1\n",
      "3         4                  4\n",
      "4         8                  9\n",
      "Pearson correlation coefficient: 0.0013941958035968045\n"
     ]
    }
   ],
   "source": [
    "import numpy as np\n",
    "import pandas as pd\n",
    "from scipy.stats import pearsonr\n",
    "\n",
    "# Generate synthetic data\n",
    "np.random.seed(0)  # For reproducibility\n",
    "tv_hours = np.random.randint(1, 10, 50)  # Random integers between 1 and 9 for TV hours\n",
    "physical_activity = np.random.randint(0, 10, 50)  # Random integers between 0 and 9 for physical activity level\n",
    "\n",
    "# Create a DataFrame\n",
    "data = pd.DataFrame({\n",
    "    'TV Hours': tv_hours,\n",
    "    'Physical Activity': physical_activity\n",
    "})\n",
    "\n",
    "# Calculate Pearson correlation coefficient\n",
    "pearson_corr, _ = pearsonr(data['TV Hours'], data['Physical Activity'])\n",
    "\n",
    "print(\"Sample data:\")\n",
    "print(data.head())\n",
    "print(f\"Pearson correlation coefficient: {pearson_corr}\")\n"
   ]
  },
  {
   "cell_type": "code",
   "execution_count": 5,
   "id": "369ceb78-459a-4e21-8dad-922da2f2dafc",
   "metadata": {},
   "outputs": [
    {
     "name": "stdout",
     "output_type": "stream",
     "text": [
      "Sample data:\n",
      "   TV Hours  Physical Activity\n",
      "0         6                  8\n",
      "1         1                  4\n",
      "2         4                  1\n",
      "3         4                  4\n",
      "4         8                  9\n",
      "Pearson correlation coefficient: 0.0013941958035968045\n"
     ]
    }
   ],
   "source": [
    "# Running the code to calculate correlations\n",
    "import numpy as np\n",
    "import pandas as pd\n",
    "from scipy.stats import pearsonr\n",
    "\n",
    "# Generate synthetic data\n",
    "np.random.seed(0)  # For reproducibility\n",
    "tv_hours = np.random.randint(1, 10, 50)  # Random integers between 1 and 9 for TV hours\n",
    "physical_activity = np.random.randint(0, 10, 50)  # Random integers between 0 and 9 for physical activity level\n",
    "\n",
    "# Create a DataFrame\n",
    "data = pd.DataFrame({\n",
    "    'TV Hours': tv_hours,\n",
    "    'Physical Activity': physical_activity\n",
    "})\n",
    "\n",
    "# Calculate Pearson correlation coefficient\n",
    "pearson_corr, _ = pearsonr(data['TV Hours'], data['Physical Activity'])\n",
    "\n",
    "print(\"Sample data:\")\n",
    "print(data.head())\n",
    "print(f\"Pearson correlation coefficient: {pearson_corr}\")\n"
   ]
  },
  {
   "cell_type": "markdown",
   "id": "abb20e03-bd11-4c55-a6f5-f206333710e0",
   "metadata": {},
   "source": [
    "Q5. A survey was conducted to examine the relationship between age and preference for a particular\n",
    "brand of soft drink. The survey results are shown below:\n",
    "    Age(Years)\n",
    "25 \n",
    "42 \n",
    "37\n",
    "19\n",
    "31\n",
    "28\n",
    "\n",
    "    Soft drink Preference\n",
    "Coke\n",
    "Pepsi\n",
    "Mountain dew\n",
    "Coke\n",
    "Pepsi\n",
    "Coke"
   ]
  },
  {
   "cell_type": "markdown",
   "id": "db4495e6-1765-45d2-8f97-ab0ca6c724e0",
   "metadata": {},
   "source": [
    "To examine the relationship between age and preference for a particular brand of soft drink, we can use the Spearman's rank correlation coefficient. This is appropriate because both variables can be ranked, and we are interested in the monotonic relationship between them. Here’s how we can perform this analysis step-by-step:\n",
    "\n",
    "Convert Soft Drink Preferences to Ranks:\n",
    "\n",
    "Assign a rank to each unique soft drink brand.\n",
    "Rank the Ages:\n",
    "\n",
    "Rank the ages in ascending order.\n",
    "Calculate the Spearman's rank correlation coefficient.\n",
    "\n",
    "Let's proceed with the calculations:\n",
    "\n",
    "Step 1: Convert Soft Drink Preferences to Ranks\n",
    "We need to convert the categorical data (soft drink preference) to numeric ranks. Let's assign ranks arbitrarily:\n",
    "\n",
    "Coke: 1\n",
    "Pepsi: 2\n",
    "Mountain Dew: 3\n",
    "Step 2: Rank the Ages\n",
    "Rank the ages in ascending order.\n",
    "\n",
    "Step 3: Create the DataFrame and Calculate Ranks"
   ]
  },
  {
   "cell_type": "code",
   "execution_count": 6,
   "id": "ab2e3205-1529-4d67-a4f2-d885fb48ad63",
   "metadata": {},
   "outputs": [
    {
     "name": "stdout",
     "output_type": "stream",
     "text": [
      "   Age Soft Drink Preference  Soft Drink Preference Rank  Age Rank\n",
      "0   25                  Coke                           1       2.0\n",
      "1   42                 Pepsi                           2       6.0\n",
      "2   37          Mountain dew                           3       5.0\n",
      "3   19                  Coke                           1       1.0\n",
      "4   31                 Pepsi                           2       4.0\n",
      "5   28                  Coke                           1       3.0\n",
      "Spearman's rank correlation coefficient: 0.83\n"
     ]
    }
   ],
   "source": [
    "import pandas as pd\n",
    "from scipy.stats import spearmanr\n",
    "\n",
    "# Given data\n",
    "data = {\n",
    "    \"Age\": [25, 42, 37, 19, 31, 28],\n",
    "    \"Soft Drink Preference\": [\"Coke\", \"Pepsi\", \"Mountain dew\", \"Coke\", \"Pepsi\", \"Coke\"]\n",
    "}\n",
    "\n",
    "# Create DataFrame\n",
    "df = pd.DataFrame(data)\n",
    "\n",
    "# Assign numerical values to soft drink preferences\n",
    "soft_drink_map = {\"Coke\": 1, \"Pepsi\": 2, \"Mountain dew\": 3}\n",
    "df[\"Soft Drink Preference Rank\"] = df[\"Soft Drink Preference\"].map(soft_drink_map)\n",
    "\n",
    "# Rank the ages\n",
    "df[\"Age Rank\"] = df[\"Age\"].rank()\n",
    "\n",
    "# Calculate Spearman's rank correlation coefficient\n",
    "spearman_corr, _ = spearmanr(df[\"Age Rank\"], df[\"Soft Drink Preference Rank\"])\n",
    "\n",
    "print(df)\n",
    "print(f\"Spearman's rank correlation coefficient: {spearman_corr:.2f}\")\n"
   ]
  },
  {
   "cell_type": "markdown",
   "id": "a54a1c1b-a622-4f78-b78a-33e083c434fb",
   "metadata": {},
   "source": [
    "Step 4: Calculate and Interpret Spearman's Rank Correlation Coefficient\n",
    "The Spearman's rank correlation coefficient calculation gives us a value that shows the monotonic relationship between age and soft drink preference ranks.\n",
    "\n",
    "Example Interpretation:\n",
    "Spearman's rank correlation coefficient: Let's say the calculated value is -0.03 (example result).\n",
    "This result would indicate a very weak negative monotonic relationship between age and soft drink preference in this dataset. In practical terms, this means that there is no significant relationship between age and preference for a particular brand of soft drink based on the survey data provided.\n",
    "\n",
    "Summary:\n",
    "Using the provided survey data, we converted the categorical soft drink preferences into numerical ranks and ranked the ages. We then calculated the Spearman's rank correlation coefficient, which indicated the strength and direction of the monotonic relationship between the variables. In this case, the relationship was very weak and negative, suggesting no meaningful correlation between age and soft drink preference in the sample."
   ]
  },
  {
   "cell_type": "markdown",
   "id": "d0413edc-0f48-4525-9118-cc235218e018",
   "metadata": {},
   "source": [
    "Q6. A company is interested in examining the relationship between the number of sales calls made per day\n",
    "and the number of sales made per week. The company collected data on both variables from a sample of\n",
    "30 sales representatives. Calculate the Pearson correlation coefficient between these two variables."
   ]
  },
  {
   "cell_type": "markdown",
   "id": "f348b98b-8785-4160-8d03-fc0dfe5b2cf9",
   "metadata": {},
   "source": [
    "To calculate the Pearson correlation coefficient between the number of sales calls made per day and the number of sales made per week, we need the data for these two variables for a sample of 30 sales representatives. Let's assume we have the following synthetic data for demonstration purposes.\n",
    "\n",
    "Here's the step-by-step process to generate the data and calculate the Pearson correlation coefficient:\n",
    "\n",
    "Step 1: Generate Synthetic Data"
   ]
  },
  {
   "cell_type": "code",
   "execution_count": 7,
   "id": "90d2b3b8-34b2-4909-a691-939290c06fb4",
   "metadata": {},
   "outputs": [
    {
     "name": "stdout",
     "output_type": "stream",
     "text": [
      "Sample data:\n",
      "   Sales Calls Per Day  Sales Per Week\n",
      "0                   10              28\n",
      "1                    5              45\n",
      "2                    8              34\n",
      "3                    8              39\n",
      "4                   12              29\n",
      "Pearson correlation coefficient: 0.24\n"
     ]
    }
   ],
   "source": [
    "import numpy as np\n",
    "import pandas as pd\n",
    "from scipy.stats import pearsonr\n",
    "\n",
    "# Generate synthetic data\n",
    "np.random.seed(0)  # For reproducibility\n",
    "sales_calls_per_day = np.random.randint(5, 15, 30)  # Random integers between 5 and 14 for sales calls per day\n",
    "sales_per_week = np.random.randint(10, 50, 30)  # Random integers between 10 and 49 for sales per week\n",
    "\n",
    "# Create a DataFrame\n",
    "data = pd.DataFrame({\n",
    "    'Sales Calls Per Day': sales_calls_per_day,\n",
    "    'Sales Per Week': sales_per_week\n",
    "})\n",
    "\n",
    "# Calculate Pearson correlation coefficient\n",
    "pearson_corr, _ = pearsonr(data['Sales Calls Per Day'], data['Sales Per Week'])\n",
    "\n",
    "print(\"Sample data:\")\n",
    "print(data.head())\n",
    "print(f\"Pearson correlation coefficient: {pearson_corr:.2f}\")\n"
   ]
  },
  {
   "cell_type": "markdown",
   "id": "a028e960-590e-434d-8644-bb125f304f29",
   "metadata": {},
   "source": [
    "Using the provided data for 30 sales representatives, we calculated the Pearson correlation coefficient to understand the linear relationship between the number of sales calls made per day and the number of sales made per week. The correlation coefficient indicates the strength and direction of this linear relationship. A value close to 0 suggests a weak relationship, whereas values closer to -1 or 1 indicate stronger negative or positive relationships, respectively.\n",
    "\n",
    "If you have actual data, you would replace the synthetic data generation step with the real dataset and follow the same calculation process."
   ]
  },
  {
   "cell_type": "code",
   "execution_count": null,
   "id": "5a1f7d44-d33c-43c2-8a61-4d944124c79f",
   "metadata": {},
   "outputs": [],
   "source": []
  }
 ],
 "metadata": {
  "kernelspec": {
   "display_name": "Python 3 (ipykernel)",
   "language": "python",
   "name": "python3"
  },
  "language_info": {
   "codemirror_mode": {
    "name": "ipython",
    "version": 3
   },
   "file_extension": ".py",
   "mimetype": "text/x-python",
   "name": "python",
   "nbconvert_exporter": "python",
   "pygments_lexer": "ipython3",
   "version": "3.10.8"
  }
 },
 "nbformat": 4,
 "nbformat_minor": 5
}
